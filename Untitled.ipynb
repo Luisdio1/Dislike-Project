{
 "cells": [
  {
   "cell_type": "code",
   "execution_count": 1,
   "id": "559c8172",
   "metadata": {},
   "outputs": [
    {
     "name": "stdout",
     "output_type": "stream",
     "text": [
      "Python version: 3.9.7 (default, Sep 16 2021, 16:59:28) [MSC v.1916 64 bit (AMD64)]\n",
      "pandas version: 1.3.4\n",
      "matplotlib version: 3.4.3\n",
      "NumPy version: 1.20.3\n",
      "SciPy version: 1.7.1\n",
      "IPython version: 7.29.0\n",
      "scikit-learn version: 0.24.2\n",
      "-------------------------\n"
     ]
    }
   ],
   "source": [
    "# This Python 3 environment comes with many helpful analytics libraries installed\n",
    "# It is defined by the kaggle/python docker image: https://github.com/kaggle/docker-python\n",
    "\n",
    "#load packages\n",
    "import sys #access to system parameters https://docs.python.org/3/library/sys.html\n",
    "print(\"Python version: {}\". format(sys.version))\n",
    "\n",
    "import pandas as pd #collection of functions for data processing and analysis modeled after R dataframes with SQL like features\n",
    "print(\"pandas version: {}\". format(pd.__version__))\n",
    "\n",
    "import matplotlib #collection of functions for scientific and publication-ready visualization\n",
    "print(\"matplotlib version: {}\". format(matplotlib.__version__))\n",
    "\n",
    "import numpy as np #foundational package for scientific computing\n",
    "print(\"NumPy version: {}\". format(np.__version__))\n",
    "\n",
    "import scipy as sp #collection of functions for scientific computing and advance mathematics\n",
    "print(\"SciPy version: {}\". format(sp.__version__)) \n",
    "\n",
    "import IPython\n",
    "from IPython import display #pretty printing of dataframes in Jupyter notebook\n",
    "print(\"IPython version: {}\". format(IPython.__version__)) \n",
    "\n",
    "import sklearn #collection of machine learning algorithms\n",
    "print(\"scikit-learn version: {}\". format(sklearn.__version__))\n",
    "\n",
    "#misc libraries\n",
    "import random\n",
    "import time\n",
    "\n",
    "\n",
    "#ignore warnings\n",
    "import warnings\n",
    "warnings.filterwarnings('ignore')\n",
    "print('-'*25)"
   ]
  },
  {
   "cell_type": "code",
   "execution_count": 2,
   "id": "4a5c8498",
   "metadata": {},
   "outputs": [],
   "source": [
    "#Common Model Algorithms\n",
    "from sklearn import svm, tree, linear_model, neighbors, naive_bayes, ensemble, discriminant_analysis, gaussian_process\n",
    "from xgboost import XGBClassifier\n",
    "\n",
    "#Common Model Helpers\n",
    "from sklearn.preprocessing import OneHotEncoder, LabelEncoder\n",
    "from sklearn import feature_selection\n",
    "from sklearn import model_selection\n",
    "from sklearn import metrics\n",
    "\n",
    "#Visualization\n",
    "import matplotlib as mpl\n",
    "import matplotlib.pyplot as plt\n",
    "import matplotlib.pylab as pylab\n",
    "import seaborn as sns\n",
    "from pandas.plotting import scatter_matrix\n",
    "\n",
    "#Configure Visualization Defaults\n",
    "#%matplotlib inline = show plots in Jupyter Notebook browser\n",
    "%matplotlib inline\n",
    "mpl.style.use('ggplot')\n",
    "sns.set_style('white')\n",
    "pylab.rcParams['figure.figsize'] = 12,8"
   ]
  },
  {
   "cell_type": "code",
   "execution_count": 3,
   "id": "1b025398",
   "metadata": {},
   "outputs": [
    {
     "name": "stdout",
     "output_type": "stream",
     "text": [
      "\n",
      " ----------Top-5- Record----------\n",
      "      video_id                                       title  view_count  \\\n",
      "0  --0bCF-iK2E        Jadon Sancho  Magical Skills & Goals     1048888   \n",
      "1  --14w5SOEUs          Migos - Avalanche (Official Video)    15352638   \n",
      "2  --40TEbZ9Is  Supporting Actress in a Comedy: 73rd Emmys      925281   \n",
      "3  --4tfbSyYDE     JO1'YOUNG (JO1 ver.)' PERFORMANCE VIDEO     2641597   \n",
      "4  --DKkzWVh-E                Why Retaining Walls Collapse      715724   \n",
      "\n",
      "    likes  dislikes  comment_count published_at  \n",
      "0   19515       226           1319     01/07/21  \n",
      "1  359277      7479          18729     10/06/21  \n",
      "2   11212       401            831     20/09/21  \n",
      "3   39131       441           3745     03/03/21  \n",
      "4   32887       367           1067     07/12/21  \n",
      "\n",
      " -----------Information-----------\n",
      "<class 'pandas.core.frame.DataFrame'>\n",
      "RangeIndex: 37358 entries, 0 to 37357\n",
      "Data columns (total 7 columns):\n",
      " #   Column         Non-Null Count  Dtype \n",
      "---  ------         --------------  ----- \n",
      " 0   video_id       37358 non-null  object\n",
      " 1   title          37358 non-null  object\n",
      " 2   view_count     37358 non-null  int64 \n",
      " 3   likes          37358 non-null  int64 \n",
      " 4   dislikes       37358 non-null  int64 \n",
      " 5   comment_count  37358 non-null  int64 \n",
      " 6   published_at   37358 non-null  object\n",
      "dtypes: int64(4), object(3)\n",
      "memory usage: 2.0+ MB\n",
      "None\n",
      "\n",
      " -----------Data Types-----------\n",
      "video_id         object\n",
      "title            object\n",
      "view_count        int64\n",
      "likes             int64\n",
      "dislikes          int64\n",
      "comment_count     int64\n",
      "published_at     object\n",
      "dtype: object\n",
      "\n",
      " ----------Missing value-----------\n",
      "video_id         0\n",
      "title            0\n",
      "view_count       0\n",
      "likes            0\n",
      "dislikes         0\n",
      "comment_count    0\n",
      "published_at     0\n",
      "dtype: int64\n",
      "\n",
      " ----------Null value-----------\n",
      "video_id         0\n",
      "title            0\n",
      "view_count       0\n",
      "likes            0\n",
      "dislikes         0\n",
      "comment_count    0\n",
      "published_at     0\n",
      "dtype: int64\n",
      "\n",
      " ----------Shape of Data----------\n",
      "(37358, 7)\n"
     ]
    }
   ],
   "source": [
    "#import data from file: https://pandas.pydata.org/pandas-docs/stable/generated/pandas.read_csv.html\n",
    "videos_data = pd.read_csv('youtube_dislike_dataset.csv')\n",
    "\n",
    "#to play with our data we'll create a copy\n",
    "#remember python assignment or equal passes by reference vs values, so we use the copy function: https://stackoverflow.com/questions/46327494/python-pandas-dataframe-copydeep-false-vs-copydeep-true-vs\n",
    "videos_data1 = videos_data.copy(deep = True)\n",
    "\n",
    "#however passing by reference is convenient, because we can clean both datasets at once\n",
    "videos_data_clean = videos_data\n",
    "\n",
    "\n",
    "\n",
    "#preview data\n",
    "\n",
    "print(\"\\n ----------Top-5- Record----------\")\n",
    "print(videos_data.head(5))  #https://pandas.pydata.org/pandas-docs/stable/generated/pandas.DataFrame.head.html\n",
    "# print(data_raw.tail(5)) #https://pandas.pydata.org/pandas-docs/stable/generated/pandas.DataFrame.tail.html\n",
    "# print(data_raw.sample(10)) #https://pandas.pydata.org/pandas-docs/stable/generated/pandas.DataFrame.sample.html\n",
    "print(\"\\n -----------Information-----------\")\n",
    "print(videos_data.info())  #https://pandas.pydata.org/pandas-docs/stable/generated/pandas.DataFrame.info.html\n",
    "print(\"\\n -----------Data Types-----------\")\n",
    "print(videos_data.dtypes)\n",
    "print(\"\\n ----------Missing value-----------\")\n",
    "print(videos_data.isnull().sum())\n",
    "print(\"\\n ----------Null value-----------\")\n",
    "print(videos_data.isna().sum())\n",
    "print(\"\\n ----------Shape of Data----------\")\n",
    "print(videos_data.shape)"
   ]
  },
  {
   "cell_type": "code",
   "execution_count": 4,
   "id": "2f70450b",
   "metadata": {},
   "outputs": [
    {
     "data": {
      "text/plain": [
       "int64     4\n",
       "object    3\n",
       "dtype: int64"
      ]
     },
     "execution_count": 4,
     "metadata": {},
     "output_type": "execute_result"
    }
   ],
   "source": [
    "# Number of each type of column\n",
    "videos_data.dtypes.value_counts()"
   ]
  },
  {
   "cell_type": "code",
   "execution_count": 5,
   "id": "52157a63",
   "metadata": {},
   "outputs": [
    {
     "name": "stdout",
     "output_type": "stream",
     "text": [
      "\n",
      " ----------Number of duplicates----------\n",
      "Number of duplicates: 0\n"
     ]
    }
   ],
   "source": [
    "print(\"\\n ----------Number of duplicates----------\")\n",
    "print('Number of duplicates:', len(videos_data[videos_data.duplicated()]))"
   ]
  },
  {
   "cell_type": "code",
   "execution_count": 6,
   "id": "f3d8f3af",
   "metadata": {},
   "outputs": [
    {
     "data": {
      "text/plain": [
       "video_id        37358\n",
       "title           37048\n",
       "published_at      493\n",
       "dtype: int64"
      ]
     },
     "execution_count": 6,
     "metadata": {},
     "output_type": "execute_result"
    }
   ],
   "source": [
    "# Let's now look at the number of unique entries in each of the object (categorical) columns\n",
    "videos_data.select_dtypes('object').apply(pd.Series.nunique, axis = 0)"
   ]
  },
  {
   "cell_type": "code",
   "execution_count": 7,
   "id": "8b8dbf36",
   "metadata": {},
   "outputs": [
    {
     "data": {
      "text/html": [
       "<div>\n",
       "<style scoped>\n",
       "    .dataframe tbody tr th:only-of-type {\n",
       "        vertical-align: middle;\n",
       "    }\n",
       "\n",
       "    .dataframe tbody tr th {\n",
       "        vertical-align: top;\n",
       "    }\n",
       "\n",
       "    .dataframe thead th {\n",
       "        text-align: right;\n",
       "    }\n",
       "</style>\n",
       "<table border=\"1\" class=\"dataframe\">\n",
       "  <thead>\n",
       "    <tr style=\"text-align: right;\">\n",
       "      <th></th>\n",
       "      <th>video_id</th>\n",
       "      <th>title</th>\n",
       "      <th>view_count</th>\n",
       "      <th>likes</th>\n",
       "      <th>dislikes</th>\n",
       "      <th>comment_count</th>\n",
       "      <th>published_at</th>\n",
       "    </tr>\n",
       "  </thead>\n",
       "  <tbody>\n",
       "    <tr>\n",
       "      <th>count</th>\n",
       "      <td>37358</td>\n",
       "      <td>37358</td>\n",
       "      <td>3.735800e+04</td>\n",
       "      <td>3.735800e+04</td>\n",
       "      <td>3.735800e+04</td>\n",
       "      <td>3.735800e+04</td>\n",
       "      <td>37358</td>\n",
       "    </tr>\n",
       "    <tr>\n",
       "      <th>unique</th>\n",
       "      <td>37358</td>\n",
       "      <td>37048</td>\n",
       "      <td>NaN</td>\n",
       "      <td>NaN</td>\n",
       "      <td>NaN</td>\n",
       "      <td>NaN</td>\n",
       "      <td>493</td>\n",
       "    </tr>\n",
       "    <tr>\n",
       "      <th>top</th>\n",
       "      <td>--0bCF-iK2E</td>\n",
       "      <td>www</td>\n",
       "      <td>NaN</td>\n",
       "      <td>NaN</td>\n",
       "      <td>NaN</td>\n",
       "      <td>NaN</td>\n",
       "      <td>28/11/21</td>\n",
       "    </tr>\n",
       "    <tr>\n",
       "      <th>freq</th>\n",
       "      <td>1</td>\n",
       "      <td>21</td>\n",
       "      <td>NaN</td>\n",
       "      <td>NaN</td>\n",
       "      <td>NaN</td>\n",
       "      <td>NaN</td>\n",
       "      <td>148</td>\n",
       "    </tr>\n",
       "    <tr>\n",
       "      <th>mean</th>\n",
       "      <td>NaN</td>\n",
       "      <td>NaN</td>\n",
       "      <td>5.702979e+06</td>\n",
       "      <td>1.669613e+05</td>\n",
       "      <td>4.996490e+03</td>\n",
       "      <td>9.919943e+03</td>\n",
       "      <td>NaN</td>\n",
       "    </tr>\n",
       "    <tr>\n",
       "      <th>std</th>\n",
       "      <td>NaN</td>\n",
       "      <td>NaN</td>\n",
       "      <td>2.428352e+07</td>\n",
       "      <td>5.379088e+05</td>\n",
       "      <td>3.073385e+04</td>\n",
       "      <td>1.171663e+05</td>\n",
       "      <td>NaN</td>\n",
       "    </tr>\n",
       "    <tr>\n",
       "      <th>min</th>\n",
       "      <td>NaN</td>\n",
       "      <td>NaN</td>\n",
       "      <td>2.036800e+04</td>\n",
       "      <td>0.000000e+00</td>\n",
       "      <td>0.000000e+00</td>\n",
       "      <td>0.000000e+00</td>\n",
       "      <td>NaN</td>\n",
       "    </tr>\n",
       "    <tr>\n",
       "      <th>25%</th>\n",
       "      <td>NaN</td>\n",
       "      <td>NaN</td>\n",
       "      <td>5.134268e+05</td>\n",
       "      <td>1.325825e+04</td>\n",
       "      <td>2.820000e+02</td>\n",
       "      <td>9.020000e+02</td>\n",
       "      <td>NaN</td>\n",
       "    </tr>\n",
       "    <tr>\n",
       "      <th>50%</th>\n",
       "      <td>NaN</td>\n",
       "      <td>NaN</td>\n",
       "      <td>1.322204e+06</td>\n",
       "      <td>4.241900e+04</td>\n",
       "      <td>7.975000e+02</td>\n",
       "      <td>2.329500e+03</td>\n",
       "      <td>NaN</td>\n",
       "    </tr>\n",
       "    <tr>\n",
       "      <th>75%</th>\n",
       "      <td>NaN</td>\n",
       "      <td>NaN</td>\n",
       "      <td>3.674092e+06</td>\n",
       "      <td>1.307798e+05</td>\n",
       "      <td>2.466750e+03</td>\n",
       "      <td>6.188750e+03</td>\n",
       "      <td>NaN</td>\n",
       "    </tr>\n",
       "    <tr>\n",
       "      <th>max</th>\n",
       "      <td>NaN</td>\n",
       "      <td>NaN</td>\n",
       "      <td>1.322797e+09</td>\n",
       "      <td>3.183768e+07</td>\n",
       "      <td>2.397733e+06</td>\n",
       "      <td>1.607103e+07</td>\n",
       "      <td>NaN</td>\n",
       "    </tr>\n",
       "  </tbody>\n",
       "</table>\n",
       "</div>"
      ],
      "text/plain": [
       "           video_id  title    view_count         likes      dislikes  \\\n",
       "count         37358  37358  3.735800e+04  3.735800e+04  3.735800e+04   \n",
       "unique        37358  37048           NaN           NaN           NaN   \n",
       "top     --0bCF-iK2E    www           NaN           NaN           NaN   \n",
       "freq              1     21           NaN           NaN           NaN   \n",
       "mean            NaN    NaN  5.702979e+06  1.669613e+05  4.996490e+03   \n",
       "std             NaN    NaN  2.428352e+07  5.379088e+05  3.073385e+04   \n",
       "min             NaN    NaN  2.036800e+04  0.000000e+00  0.000000e+00   \n",
       "25%             NaN    NaN  5.134268e+05  1.325825e+04  2.820000e+02   \n",
       "50%             NaN    NaN  1.322204e+06  4.241900e+04  7.975000e+02   \n",
       "75%             NaN    NaN  3.674092e+06  1.307798e+05  2.466750e+03   \n",
       "max             NaN    NaN  1.322797e+09  3.183768e+07  2.397733e+06   \n",
       "\n",
       "        comment_count published_at  \n",
       "count    3.735800e+04        37358  \n",
       "unique            NaN          493  \n",
       "top               NaN     28/11/21  \n",
       "freq              NaN          148  \n",
       "mean     9.919943e+03          NaN  \n",
       "std      1.171663e+05          NaN  \n",
       "min      0.000000e+00          NaN  \n",
       "25%      9.020000e+02          NaN  \n",
       "50%      2.329500e+03          NaN  \n",
       "75%      6.188750e+03          NaN  \n",
       "max      1.607103e+07          NaN  "
      ]
     },
     "execution_count": 7,
     "metadata": {},
     "output_type": "execute_result"
    }
   ],
   "source": [
    "videos_data.describe(include = 'all')"
   ]
  },
  {
   "cell_type": "code",
   "execution_count": 8,
   "id": "cc130060",
   "metadata": {},
   "outputs": [
    {
     "name": "stdout",
     "output_type": "stream",
     "text": [
      "Your selected dataframe has 7 columns.\n",
      "There are 0 columns that have missing values.\n",
      "Empty DataFrame\n",
      "Columns: [Missing Values, % of Total Values]\n",
      "Index: []\n"
     ]
    }
   ],
   "source": [
    "# Function to calculate missing values by column# Funct \n",
    "def missing_values_table(df):\n",
    "        # Total missing values\n",
    "        mis_val = df.isnull().sum()\n",
    "        \n",
    "        # Percentage of missing values\n",
    "        mis_val_percent = 100 * df.isnull().sum() / len(df)\n",
    "        \n",
    "        # Make a table with the results\n",
    "        mis_val_table = pd.concat([mis_val, mis_val_percent], axis=1)\n",
    "        \n",
    "        # Rename the columns\n",
    "        mis_val_table_ren_columns = mis_val_table.rename(\n",
    "        columns = {0 : 'Missing Values', 1 : '% of Total Values'})\n",
    "        \n",
    "        # Sort the table by percentage of missing descending\n",
    "        mis_val_table_ren_columns = mis_val_table_ren_columns[\n",
    "            mis_val_table_ren_columns.iloc[:,1] != 0].sort_values(\n",
    "        '% of Total Values', ascending=False).round(1)\n",
    "        \n",
    "        # Print some summary information\n",
    "        print (\"Your selected dataframe has \" + str(df.shape[1]) + \" columns.\\n\"      \n",
    "            \"There are \" + str(mis_val_table_ren_columns.shape[0]) +\n",
    "              \" columns that have missing values.\")\n",
    "        \n",
    "        # Return the dataframe with missing information\n",
    "        return mis_val_table_ren_columns\n",
    "\n",
    "missing_values_data1 = missing_values_table(videos_data)\n",
    "print(missing_values_data1.head(30))"
   ]
  },
  {
   "cell_type": "code",
   "execution_count": 10,
   "id": "90333865",
   "metadata": {},
   "outputs": [
    {
     "name": "stdout",
     "output_type": "stream",
     "text": [
      "Train columns with null values:\n",
      " video_id         0\n",
      "title            0\n",
      "view_count       0\n",
      "likes            0\n",
      "dislikes         0\n",
      "comment_count    0\n",
      "published_at     0\n",
      "dtype: int64\n"
     ]
    }
   ],
   "source": [
    "print('Train columns with null values:\\n', videos_data.isnull().sum())"
   ]
  },
  {
   "cell_type": "code",
   "execution_count": 11,
   "id": "f73f6fe7",
   "metadata": {},
   "outputs": [
    {
     "name": "stdout",
     "output_type": "stream",
     "text": [
      "0 columns were label encoded in videos_data.\n"
     ]
    }
   ],
   "source": [
    "# Encoding Categorical Variables\n",
    "# Create a label encoder object\n",
    "le = dict()\n",
    "le_count = 0\n",
    "\n",
    "def encode_transform(app, col, le):\n",
    "    app[col] = le[col].transform(app[col])\n",
    "    return app, col, le\n",
    "\n",
    "    \n",
    "\n",
    "\n",
    "# Iterate through the columns\n",
    "for col in videos_data:\n",
    "#     print(col)\n",
    "    if videos_data[col].dtype == 'object':        \n",
    "        # If 2 or fewer unique categories\n",
    "        if len(list(videos_data[col].unique())) <= 2:\n",
    "            le[col] = LabelEncoder()\n",
    "            # Train on the training data\n",
    "            le[col].fit(videos_data[col])\n",
    "            encode_transform(videos_data, col, le)\n",
    "            \n",
    "            # Keep track of how many columns were label encoded\n",
    "            le_count += 1\n",
    "            \n",
    "print('%d columns were label encoded in videos_data.' % le_count)"
   ]
  },
  {
   "cell_type": "code",
   "execution_count": 12,
   "id": "2443bd46",
   "metadata": {},
   "outputs": [
    {
     "data": {
      "text/plain": [
       "Index(['video_id', 'title', 'view_count', 'likes', 'dislikes', 'comment_count',\n",
       "       'published_at'],\n",
       "      dtype='object')"
      ]
     },
     "execution_count": 12,
     "metadata": {},
     "output_type": "execute_result"
    }
   ],
   "source": [
    "videos_data.columns"
   ]
  },
  {
   "cell_type": "code",
   "execution_count": 13,
   "id": "1db3d169",
   "metadata": {},
   "outputs": [
    {
     "data": {
      "image/png": "[encoded data removed]",
      "text/plain": [
       "<Figure size 864x1296 with 3 Axes>"
      ]
     },
     "metadata": {},
     "output_type": "display_data"
    }
   ],
   "source": [
    "#Distribution of numerical values\n",
    "num_attributes = videos_data.select_dtypes(exclude='object').drop('dislikes', axis=1).copy()\n",
    "\n",
    "fig = plt.figure(figsize=(12,18))\n",
    "for i in range(len(num_attributes.columns)):\n",
    "    fig.add_subplot(9,4,i+1)\n",
    "    sns.distplot(num_attributes.iloc[:,i].dropna())\n",
    "    plt.xlabel(num_attributes.columns[i])\n",
    "\n",
    "plt.tight_layout()\n",
    "plt.show()"
   ]
  },
  {
   "cell_type": "code",
   "execution_count": 14,
   "id": "527092be",
   "metadata": {},
   "outputs": [
    {
     "data": {
      "image/png": "[encoded data removed]",
      "text/plain": [
       "<Figure size 864x1440 with 3 Axes>"
      ]
     },
     "metadata": {},
     "output_type": "display_data"
    }
   ],
   "source": [
    "#First look on outliers\n",
    "#Seems like there are some in view_count,likes and comment_count\n",
    "#Maybe remove them\n",
    "target = videos_data.dislikes\n",
    "f = plt.figure(figsize=(12,20))\n",
    "\n",
    "for i in range(len(num_attributes.columns)):\n",
    "    f.add_subplot(9, 4, i+1)\n",
    "    sns.scatterplot(num_attributes.iloc[:,i], target)\n",
    "    \n",
    "plt.tight_layout()\n",
    "plt.show()"
   ]
  },
  {
   "cell_type": "code",
   "execution_count": 15,
   "id": "9f52903a",
   "metadata": {},
   "outputs": [
    {
     "data": {
      "image/png": "[encoded data removed]",
      "text/plain": [
       "<Figure size 1008x864 with 2 Axes>"
      ]
     },
     "metadata": {},
     "output_type": "display_data"
    }
   ],
   "source": [
    "#Coreelation of attribues\n",
    "correlation = videos_data.corr()\n",
    "\n",
    "f, ax = plt.subplots(figsize=(14,12))\n",
    "plt.title('Correlation of numerical attributes', size=16)\n",
    "#sns.heatmap(correlation)\n",
    "sns.heatmap(correlation, annot=True)\n",
    "plt.show()"
   ]
  },
  {
   "cell_type": "code",
   "execution_count": 16,
   "id": "a9d5cf9c",
   "metadata": {},
   "outputs": [
    {
     "data": {
      "text/plain": [
       "dislikes         1.000000\n",
       "view_count       0.684494\n",
       "likes            0.679879\n",
       "comment_count    0.391805\n",
       "Name: dislikes, dtype: float64"
      ]
     },
     "execution_count": 16,
     "metadata": {},
     "output_type": "execute_result"
    }
   ],
   "source": [
    "#Correlation of values to target\n",
    "correlation['dislikes'].sort_values(ascending=False).head(15)"
   ]
  },
  {
   "cell_type": "code",
   "execution_count": 17,
   "id": "7d772051",
   "metadata": {},
   "outputs": [
    {
     "data": {
      "image/png": "[encoded data removed]",
      "text/plain": [
       "<Figure size 1152x1440 with 40 Axes>"
      ]
     },
     "metadata": {},
     "output_type": "display_data"
    }
   ],
   "source": [
    "#Show scatter again with correlation value\n",
    "#We want to remove feauters that have high correlation to eachother\n",
    "#and features that have low correlation with the target\n",
    "num_columns = videos_data.select_dtypes(exclude='object').columns\n",
    "corr_to_price = correlation['dislikes']\n",
    "n_cols = 5\n",
    "n_rows = 8\n",
    "fig, ax_arr = plt.subplots(n_rows, n_cols, figsize=(16,20), sharey=True)\n",
    "plt.subplots_adjust(bottom=-0.8)\n",
    "for j in range(n_rows):\n",
    "    for i in range(n_cols):\n",
    "        plt.sca(ax_arr[j, i])\n",
    "        index = i + j*n_cols\n",
    "        if index < len(num_columns):\n",
    "            plt.scatter(videos_data[num_columns[index]], videos_data.dislikes)\n",
    "            plt.xlabel(num_columns[index])\n",
    "            plt.title('Corr to dislikes = '+ str(np.around(corr_to_price[index], decimals=3)))\n",
    "plt.show()"
   ]
  },
  {
   "cell_type": "code",
   "execution_count": 18,
   "id": "577413e0",
   "metadata": {},
   "outputs": [],
   "source": [
    "#Experiment with removing outliers\n",
    "# Create copy of dataset \n",
    "videos_data_copy = videos_data.copy()\n",
    "\n",
    "videos_data_copy = videos_data_copy.drop(videos_data_copy['comment_count']\n",
    "                                     [videos_data_copy['comment_count']>1.5e7].index)\n",
    "\n",
    "videos_data_copy = videos_data_copy.drop(videos_data_copy['likes']\n",
    "                                     [videos_data_copy['likes']>3e7].index)"
   ]
  },
  {
   "cell_type": "code",
   "execution_count": 35,
   "id": "b3aed0ed",
   "metadata": {},
   "outputs": [],
   "source": [
    "from sklearn.model_selection import train_test_split\n",
    "# videos_data_copy['date_parsed'] = pd.to_datetime(videos_data_copy['published_at'], format=\"%d/%m/%y\")\n",
    "# videos_data_copy.drop(['published_at'], axis=1)\n",
    "videos_features = ['view_count', 'likes', 'comment_count','published_at']\n",
    "X = videos_data_copy[videos_features]\n",
    "\n",
    "#Prediction Target\n",
    "y = videos_data_copy.dislikes\n",
    "\n",
    "# One-hot-encoding to transform all categorical data\n",
    "X = pd.get_dummies(X)\n",
    "\n",
    "# Split into validation and training data\n",
    "train_X, val_X, train_y, val_y = train_test_split(X, y, random_state=1)"
   ]
  },
  {
   "cell_type": "code",
   "execution_count": 20,
   "id": "2f857aa6",
   "metadata": {},
   "outputs": [
    {
     "name": "stdout",
     "output_type": "stream",
     "text": [
      "Validation MAE for Decision Tree when not specifying max_leaf_nodes: 3,345\n",
      "Validation MAE for Decision Tree with best value of max_leaf_nodes: 3,058\n",
      "Validation MAE for Random Forest Model: 2,675\n",
      "Validation MAE for XGBoost Model: 2,680\n",
      "Validation MAE for Linear Regression Model: 4,012\n",
      "Validation MAE for Lasso Model: 4,012\n",
      "Validation MAE for Ridge Regression Model: 4,012\n",
      "Validation MAE for Elastic Net Model: 4,012\n",
      "Validation MAE for KNN Model: 3,286\n",
      "Validation MAE for Gradient Boosting Model: 2,745\n",
      "Validation MAE for Ada Boost Model: 5,637\n",
      "MAE values for different algorithms:\n"
     ]
    },
    {
     "data": {
      "text/plain": [
       "Algorithm\n",
       "RandomForest                       2675.0\n",
       "XGBoost                            2680.0\n",
       "GradientBoosting                   2745.0\n",
       "DecisionTree_opt_max_leaf_nodes    3058.0\n",
       "KNN                                3286.0\n",
       "DecisionTree                       3345.0\n",
       "ElasticNet                         4012.0\n",
       "Lasso                              4012.0\n",
       "Ridge                              4012.0\n",
       "LinearRegression                   4012.0\n",
       "AdaBoost                           5637.0\n",
       "dtype: float64"
      ]
     },
     "execution_count": 20,
     "metadata": {},
     "output_type": "execute_result"
    }
   ],
   "source": [
    "from sklearn.metrics import mean_absolute_error\n",
    "\n",
    "from sklearn.linear_model import Lasso\n",
    "from sklearn.linear_model import LinearRegression\n",
    "from sklearn.linear_model import Ridge\n",
    "from sklearn.linear_model import ElasticNet\n",
    "from sklearn.neighbors import KNeighborsRegressor\n",
    "from sklearn.svm import SVR\n",
    "from sklearn.ensemble import RandomForestRegressor\n",
    "from sklearn.ensemble import GradientBoostingRegressor\n",
    "from sklearn.ensemble import AdaBoostRegressor\n",
    "from sklearn.tree import DecisionTreeRegressor\n",
    "from xgboost import XGBRegressor\n",
    "\n",
    "# Series to collate mean absolute errors for each algorithm\n",
    "mae_compare = pd.Series()\n",
    "mae_compare.index.name = 'Algorithm'\n",
    "\n",
    "# Specify Model ================================\n",
    "dislike_model = DecisionTreeRegressor(random_state=1)\n",
    "# Fit Model\n",
    "dislike_model.fit(train_X, train_y)\n",
    "\n",
    "# Make validation predictions and calculate mean absolute error\n",
    "val_predictions = dislike_model.predict(val_X)\n",
    "val_mae = mean_absolute_error(val_predictions, val_y)\n",
    "mae_compare['DecisionTree'] = val_mae\n",
    "print(\"Validation MAE for Decision Tree when not specifying max_leaf_nodes: {:,.0f}\".format(val_mae))\n",
    "\n",
    "\n",
    "# Decision Tree. Using best value for max_leaf_nodes ==============\n",
    "dislike_model = DecisionTreeRegressor(max_leaf_nodes=100, random_state=1)\n",
    "dislike_model.fit(train_X, train_y)\n",
    "val_predictions = dislike_model.predict(val_X)\n",
    "val_mae = mean_absolute_error(val_predictions, val_y)\n",
    "mae_compare['DecisionTree_opt_max_leaf_nodes'] = val_mae\n",
    "print(\"Validation MAE for Decision Tree with best value of max_leaf_nodes: {:,.0f}\".format(val_mae))\n",
    "\n",
    "# Random Forest. Define the model. =============================\n",
    "rf_model = RandomForestRegressor(random_state=5)\n",
    "rf_model.fit(train_X, train_y)\n",
    "rf_val_predictions = rf_model.predict(val_X)\n",
    "rf_val_mae = mean_absolute_error(rf_val_predictions,val_y)\n",
    "mae_compare['RandomForest'] = rf_val_mae\n",
    "print(\"Validation MAE for Random Forest Model: {:,.0f}\".format(rf_val_mae))\n",
    "\n",
    "\n",
    "# XGBoost. Define the model. ======================================\n",
    "xgb_model = XGBRegressor(n_estimators=1000, learning_rate=0.05)\n",
    "xgb_model.fit(train_X, train_y, early_stopping_rounds=5, \n",
    "              eval_set=[(val_X,val_y)], verbose=False)\n",
    "xgb_val_predictions = xgb_model.predict(val_X)\n",
    "xgb_val_mae = mean_absolute_error(xgb_val_predictions, val_y)\n",
    "mae_compare['XGBoost'] = xgb_val_mae\n",
    "print(\"Validation MAE for XGBoost Model: {:,.0f}\".format(xgb_val_mae))\n",
    "\n",
    "# Linear Regression =================================================\n",
    "linear_model = LinearRegression()\n",
    "linear_model.fit(train_X, train_y)\n",
    "linear_val_predictions = linear_model.predict(val_X)\n",
    "linear_val_mae = mean_absolute_error(linear_val_predictions, val_y)\n",
    "mae_compare['LinearRegression'] = linear_val_mae\n",
    "print(\"Validation MAE for Linear Regression Model: {:,.0f}\".format(linear_val_mae))\n",
    "\n",
    "# Lasso ==============================================================\n",
    "lasso_model = Lasso(alpha=0.0005, random_state=5)\n",
    "lasso_model.fit(train_X, train_y)\n",
    "lasso_val_predictions = lasso_model.predict(val_X)\n",
    "lasso_val_mae = mean_absolute_error(lasso_val_predictions, val_y)\n",
    "mae_compare['Lasso'] = lasso_val_mae\n",
    "print(\"Validation MAE for Lasso Model: {:,.0f}\".format(lasso_val_mae))\n",
    "\n",
    "# Ridge ===============================================================\n",
    "ridge_model = Ridge(alpha=0.002, random_state=5)\n",
    "ridge_model.fit(train_X, train_y)\n",
    "ridge_val_predictions = ridge_model.predict(val_X)\n",
    "ridge_val_mae = mean_absolute_error(ridge_val_predictions, val_y)\n",
    "mae_compare['Ridge'] = ridge_val_mae\n",
    "print(\"Validation MAE for Ridge Regression Model: {:,.0f}\".format(ridge_val_mae))\n",
    "\n",
    "# ElasticNet ===========================================================\n",
    "elastic_net_model = ElasticNet(alpha=0.02, random_state=5, l1_ratio=0.7)\n",
    "elastic_net_model.fit(train_X, train_y)\n",
    "elastic_net_val_predictions = elastic_net_model.predict(val_X)\n",
    "elastic_net_val_mae = mean_absolute_error(elastic_net_val_predictions, val_y)\n",
    "mae_compare['ElasticNet'] = elastic_net_val_mae\n",
    "print(\"Validation MAE for Elastic Net Model: {:,.0f}\".format(elastic_net_val_mae))\n",
    "\n",
    "# KNN Regression ========================================================\n",
    "knn_model = KNeighborsRegressor()\n",
    "knn_model.fit(train_X, train_y)\n",
    "knn_val_predictions = knn_model.predict(val_X)\n",
    "knn_val_mae = mean_absolute_error(knn_val_predictions, val_y)\n",
    "mae_compare['KNN'] = knn_val_mae\n",
    "print(\"Validation MAE for KNN Model: {:,.0f}\".format(knn_val_mae))\n",
    "\n",
    "# Gradient Boosting Regression ==========================================\n",
    "gbr_model = GradientBoostingRegressor(n_estimators=300, learning_rate=0.05, \n",
    "                                      max_depth=4, random_state=5)\n",
    "gbr_model.fit(train_X, train_y)\n",
    "gbr_val_predictions = gbr_model.predict(val_X)\n",
    "gbr_val_mae = mean_absolute_error(gbr_val_predictions, val_y)\n",
    "mae_compare['GradientBoosting'] = gbr_val_mae\n",
    "print(\"Validation MAE for Gradient Boosting Model: {:,.0f}\".format(gbr_val_mae))\n",
    "\n",
    "# Ada Boost Regression ================================================\n",
    "ada_model = AdaBoostRegressor(n_estimators=300, learning_rate=0.05, random_state=5)\n",
    "ada_model.fit(train_X, train_y)\n",
    "ada_val_predictions = ada_model.predict(val_X)\n",
    "ada_val_mae = mean_absolute_error(ada_val_predictions, val_y)\n",
    "mae_compare['AdaBoost'] = ada_val_mae\n",
    "print(\"Validation MAE for Ada Boost Model: {:,.0f}\".format(ada_val_mae))\n",
    "\n",
    "print('MAE values for different algorithms:')\n",
    "mae_compare.sort_values(ascending=True).round()"
   ]
  },
  {
   "cell_type": "code",
   "execution_count": 22,
   "id": "58dcebe3",
   "metadata": {},
   "outputs": [
    {
     "name": "stdout",
     "output_type": "stream",
     "text": [
      "{'n_estimators': [200, 400, 600, 800, 1000, 1200, 1400, 1600, 1800, 2000], 'max_features': ['auto', 'sqrt'], 'max_depth': [10, 20, 30, 40, 50, 60, 70, 80, 90, 100, 110, None], 'min_samples_split': [2, 5, 10], 'min_samples_leaf': [1, 2, 4], 'bootstrap': [True, False]}\n"
     ]
    }
   ],
   "source": [
    "from sklearn.model_selection import RandomizedSearchCV\n",
    "# Number of trees in random forest\n",
    "n_estimators = [int(x) for x in np.linspace(start = 200, stop = 2000, num = 10)]\n",
    "# Number of features to consider at every split\n",
    "max_features = ['auto', 'sqrt']\n",
    "# Maximum number of levels in tree\n",
    "max_depth = [int(x) for x in np.linspace(10, 110, num = 11)]\n",
    "max_depth.append(None)\n",
    "# Minimum number of samples required to split a node\n",
    "min_samples_split = [2, 5, 10]\n",
    "# Minimum number of samples required at each leaf node\n",
    "min_samples_leaf = [1, 2, 4]\n",
    "# Method of selecting samples for training each tree\n",
    "bootstrap = [True, False]\n",
    "# Create the random grid\n",
    "random_grid = {'n_estimators': n_estimators,\n",
    "               'max_features': max_features,\n",
    "               'max_depth': max_depth,\n",
    "               'min_samples_split': min_samples_split,\n",
    "               'min_samples_leaf': min_samples_leaf,\n",
    "               'bootstrap': bootstrap}\n",
    "print(random_grid)"
   ]
  },
  {
   "cell_type": "code",
   "execution_count": 23,
   "id": "1daad96d",
   "metadata": {},
   "outputs": [
    {
     "name": "stdout",
     "output_type": "stream",
     "text": [
      "Fitting 2 folds for each of 50 candidates, totalling 100 fits\n"
     ]
    },
    {
     "data": {
      "text/plain": [
       "RandomizedSearchCV(cv=2, estimator=RandomForestRegressor(), n_iter=50,\n",
       "                   n_jobs=-1,\n",
       "                   param_distributions={'bootstrap': [True, False],\n",
       "                                        'max_depth': [10, 20, 30, 40, 50, 60,\n",
       "                                                      70, 80, 90, 100, 110,\n",
       "                                                      None],\n",
       "                                        'max_features': ['auto', 'sqrt'],\n",
       "                                        'min_samples_leaf': [1, 2, 4],\n",
       "                                        'min_samples_split': [2, 5, 10],\n",
       "                                        'n_estimators': [200, 400, 600, 800,\n",
       "                                                         1000, 1200, 1400, 1600,\n",
       "                                                         1800, 2000]},\n",
       "                   random_state=42, verbose=2)"
      ]
     },
     "execution_count": 23,
     "metadata": {},
     "output_type": "execute_result"
    }
   ],
   "source": [
    "# Use the random grid to search for best hyperparameters\n",
    "# First create the base model to tune\n",
    "rf = RandomForestRegressor()\n",
    "# Random search of parameters, using 2 fold cross validation, \n",
    "# search across 50 different combinations, and use all available cores\n",
    "rf_random = RandomizedSearchCV(estimator = rf, param_distributions = random_grid, n_iter = 50, cv = 2, verbose=2, random_state=42, n_jobs = -1)\n",
    "# Fit the random search model\n",
    "rf_random.fit(train_X, train_y)"
   ]
  },
  {
   "cell_type": "code",
   "execution_count": 24,
   "id": "5e3ec868",
   "metadata": {},
   "outputs": [
    {
     "data": {
      "text/plain": [
       "{'n_estimators': 1800,\n",
       " 'min_samples_split': 2,\n",
       " 'min_samples_leaf': 4,\n",
       " 'max_features': 'sqrt',\n",
       " 'max_depth': 90,\n",
       " 'bootstrap': True}"
      ]
     },
     "execution_count": 24,
     "metadata": {},
     "output_type": "execute_result"
    }
   ],
   "source": [
    "rf_random.best_params_"
   ]
  },
  {
   "cell_type": "code",
   "execution_count": 25,
   "id": "d4e0bbff",
   "metadata": {},
   "outputs": [
    {
     "name": "stdout",
     "output_type": "stream",
     "text": [
      "Validation MAE for Random Forest Model: 2,675\n",
      "Validation MAE for Random Forest with best parameters: 2,621\n"
     ]
    }
   ],
   "source": [
    "#Compare the previous model with the one with random best estimator\n",
    "best_random = rf_random.best_estimator_\n",
    "best_random_predictions = best_random.predict(val_X)\n",
    "best_random_mae = mean_absolute_error(best_random_predictions,val_y)\n",
    "print(\"Validation MAE for Random Forest Model: {:,.0f}\".format(rf_val_mae))\n",
    "print(\"Validation MAE for Random Forest with best parameters: {:,.0f}\" .format(best_random_mae))"
   ]
  },
  {
   "cell_type": "code",
   "execution_count": 29,
   "id": "09027f49",
   "metadata": {},
   "outputs": [],
   "source": [
    "from sklearn.model_selection import GridSearchCV\n",
    "\n",
    "# Create the parameter grid based on the results of random search \n",
    "param_grid = {\n",
    "    'bootstrap': [True],\n",
    "    'max_depth': [80, 90, 100, 110],\n",
    "    'max_features': [1, 2],\n",
    "    'min_samples_leaf': [3, 4, 5],\n",
    "    'min_samples_split': [2, 3, 4],\n",
    "    'n_estimators': [1600, 1800, 2000]\n",
    "}\n",
    "# Create a based model\n",
    "rf = RandomForestRegressor()\n",
    "# Instantiate the grid search model\n",
    "grid_search = GridSearchCV(estimator = rf, param_grid = param_grid, \n",
    "                          cv = 2, n_jobs = -1, verbose = 2)"
   ]
  },
  {
   "cell_type": "code",
   "execution_count": 30,
   "id": "1b51c45a",
   "metadata": {},
   "outputs": [
    {
     "name": "stdout",
     "output_type": "stream",
     "text": [
      "Fitting 2 folds for each of 216 candidates, totalling 432 fits\n",
      "Validation MAE for Random Forest with best parameters: 2,621\n",
      "Validation MAE for Random Forest with best grid parameters: 2,617\n"
     ]
    }
   ],
   "source": [
    "# Fit the grid search to the data\n",
    "grid_search.fit(train_X, train_y)\n",
    "grid_search.best_params_\n",
    "\n",
    "best_grid = grid_search.best_estimator_\n",
    "\n",
    "best_grid_predictions = best_grid.predict(val_X)\n",
    "best_grid_mae = mean_absolute_error(best_grid_predictions,val_y)\n",
    "print(\"Validation MAE for Random Forest with best parameters: {:,.0f}\" .format(best_random_mae))\n",
    "print(\"Validation MAE for Random Forest with best grid parameters: {:,.0f}\" .format(best_grid_mae))\n",
    "\n",
    "\n"
   ]
  },
  {
   "cell_type": "code",
   "execution_count": 21,
   "id": "a108c1a3",
   "metadata": {},
   "outputs": [],
   "source": [
    "def get_mae(max_leaf_nodes, train_X, val_X, train_y, val_y):\n",
    "    model = DecisionTreeRegressor(max_leaf_nodes=max_leaf_nodes, random_state=1)\n",
    "    model.fit(train_X, train_y)\n",
    "    preds_val = model.predict(val_X)\n",
    "    mae = mean_absolute_error(val_y, preds_val)\n",
    "    return(mae)"
   ]
  },
  {
   "cell_type": "code",
   "execution_count": 26,
   "id": "78133a98",
   "metadata": {},
   "outputs": [
    {
     "name": "stdout",
     "output_type": "stream",
     "text": [
      "100\n"
     ]
    }
   ],
   "source": [
    "# compare MAE with differing values of max_leaf_nodes\n",
    "candidate_max_leaf_nodes = [5, 25, 50, 100, 250, 500, 1000]\n",
    "results = {}\n",
    "for max_leaf_nodes in candidate_max_leaf_nodes:\n",
    "    my_mae = get_mae(max_leaf_nodes, train_X, val_X, train_y, val_y)\n",
    "    results[max_leaf_nodes] = my_mae\n",
    "\n",
    "# Store the best value of max_leaf_nodes\n",
    "best_tree_size = min(results , key = results.get)\n",
    "print(best_tree_size)"
   ]
  },
  {
   "cell_type": "code",
   "execution_count": 31,
   "id": "edbd5443",
   "metadata": {},
   "outputs": [
    {
     "data": {
      "text/plain": [
       "{'bootstrap': True,\n",
       " 'max_depth': 90,\n",
       " 'max_features': 2,\n",
       " 'min_samples_leaf': 5,\n",
       " 'min_samples_split': 4,\n",
       " 'n_estimators': 1600}"
      ]
     },
     "execution_count": 31,
     "metadata": {},
     "output_type": "execute_result"
    }
   ],
   "source": [
    "grid_search.best_params_"
   ]
  },
  {
   "cell_type": "code",
   "execution_count": 36,
   "id": "ee1ad164",
   "metadata": {},
   "outputs": [
    {
     "name": "stdout",
     "output_type": "stream",
     "text": [
      "4917.742558699696\n"
     ]
    },
    {
     "data": {
      "text/plain": [
       "RandomForestRegressor(max_depth=90, max_features=2, min_samples_leaf=5,\n",
       "                      min_samples_split=4, n_estimators=1600)"
      ]
     },
     "execution_count": 36,
     "metadata": {},
     "output_type": "execute_result"
    }
   ],
   "source": [
    "final_model = RandomForestRegressor(bootstrap = True, max_depth = 90, max_features = 2, min_samples_leaf = 5, \n",
    "                                   min_samples_split = 4, n_estimators = 1600)\n",
    "final_model.fit(train_X, train_y)\n",
    "\n",
    "val_predictions = final_model.predict(val_X)\n",
    "print(mean_absolute_error(val_y, val_predictions))\n",
    "\n",
    "final_model.fit(X, y)"
   ]
  },
  {
   "cell_type": "code",
   "execution_count": null,
   "id": "334d8911",
   "metadata": {},
   "outputs": [],
   "source": []
  }
 ],
 "metadata": {
  "kernelspec": {
   "display_name": "Python 3 (ipykernel)",
   "language": "python",
   "name": "python3"
  },
  "language_info": {
   "codemirror_mode": {
    "name": "ipython",
    "version": 3
   },
   "file_extension": ".py",
   "mimetype": "text/x-python",
   "name": "python",
   "nbconvert_exporter": "python",
   "pygments_lexer": "ipython3",
   "version": "3.9.7"
  }
 },
 "nbformat": 4,
 "nbformat_minor": 5
}
